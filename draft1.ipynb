{
 "cells": [
  {
   "cell_type": "code",
   "execution_count": 1,
   "metadata": {},
   "outputs": [],
   "source": [
    "import networkx as nx\n",
    "import matplotlib.pyplot as plt\n",
    "import numpy as np\n",
    "import pandas as pd\n",
    "import seaborn as sns"
   ]
  },
  {
   "cell_type": "code",
   "execution_count": 2,
   "metadata": {},
   "outputs": [
    {
     "name": "stdout",
     "output_type": "stream",
     "text": [
      "DiGraph with 138499 nodes and 1091955 edges\n"
     ]
    }
   ],
   "source": [
    "G=nx.read_edgelist('edgelist.txt',delimiter=',',nodetype=int,create_using=nx.DiGraph())\n",
    "print(nx.info(G))"
   ]
  },
  {
   "cell_type": "code",
   "execution_count": 3,
   "metadata": {},
   "outputs": [
    {
     "data": {
      "text/html": [
       "<div>\n",
       "<style scoped>\n",
       "    .dataframe tbody tr th:only-of-type {\n",
       "        vertical-align: middle;\n",
       "    }\n",
       "\n",
       "    .dataframe tbody tr th {\n",
       "        vertical-align: top;\n",
       "    }\n",
       "\n",
       "    .dataframe thead th {\n",
       "        text-align: right;\n",
       "    }\n",
       "</style>\n",
       "<table border=\"1\" class=\"dataframe\">\n",
       "  <thead>\n",
       "    <tr style=\"text-align: right;\">\n",
       "      <th></th>\n",
       "      <th>degree</th>\n",
       "    </tr>\n",
       "  </thead>\n",
       "  <tbody>\n",
       "    <tr>\n",
       "      <th>0</th>\n",
       "      <td>2</td>\n",
       "    </tr>\n",
       "    <tr>\n",
       "      <th>1</th>\n",
       "      <td>20</td>\n",
       "    </tr>\n",
       "    <tr>\n",
       "      <th>2</th>\n",
       "      <td>39</td>\n",
       "    </tr>\n",
       "    <tr>\n",
       "      <th>3</th>\n",
       "      <td>11</td>\n",
       "    </tr>\n",
       "    <tr>\n",
       "      <th>5</th>\n",
       "      <td>22</td>\n",
       "    </tr>\n",
       "    <tr>\n",
       "      <th>...</th>\n",
       "      <td>...</td>\n",
       "    </tr>\n",
       "    <tr>\n",
       "      <th>138401</th>\n",
       "      <td>1</td>\n",
       "    </tr>\n",
       "    <tr>\n",
       "      <th>137583</th>\n",
       "      <td>2</td>\n",
       "    </tr>\n",
       "    <tr>\n",
       "      <th>137582</th>\n",
       "      <td>2</td>\n",
       "    </tr>\n",
       "    <tr>\n",
       "      <th>137584</th>\n",
       "      <td>1</td>\n",
       "    </tr>\n",
       "    <tr>\n",
       "      <th>138384</th>\n",
       "      <td>1</td>\n",
       "    </tr>\n",
       "  </tbody>\n",
       "</table>\n",
       "<p>138499 rows × 1 columns</p>\n",
       "</div>"
      ],
      "text/plain": [
       "        degree\n",
       "0            2\n",
       "1           20\n",
       "2           39\n",
       "3           11\n",
       "5           22\n",
       "...        ...\n",
       "138401       1\n",
       "137583       2\n",
       "137582       2\n",
       "137584       1\n",
       "138384       1\n",
       "\n",
       "[138499 rows x 1 columns]"
      ]
     },
     "execution_count": 3,
     "metadata": {},
     "output_type": "execute_result"
    }
   ],
   "source": [
    "degree_dict = dict(G.degree())\n",
    "degree_df = pd.DataFrame.from_dict(degree_dict, orient='index')\n",
    "degree_df.columns = ['degree']\n",
    "degree_df['degree'] = degree_df['degree'].astype(int)\n",
    "degree_df"
   ]
  },
  {
   "cell_type": "code",
   "execution_count": 4,
   "metadata": {},
   "outputs": [
    {
     "name": "stderr",
     "output_type": "stream",
     "text": [
      "C:\\Users\\ilsto\\AppData\\Local\\Programs\\Python\\Python37\\lib\\site-packages\\sklearn\\linear_model\\_logistic.py:818: ConvergenceWarning: lbfgs failed to converge (status=1):\n",
      "STOP: TOTAL NO. of ITERATIONS REACHED LIMIT.\n",
      "\n",
      "Increase the number of iterations (max_iter) or scale the data as shown in:\n",
      "    https://scikit-learn.org/stable/modules/preprocessing.html\n",
      "Please also refer to the documentation for alternative solver options:\n",
      "    https://scikit-learn.org/stable/modules/linear_model.html#logistic-regression\n",
      "  extra_warning_msg=_LOGISTIC_SOLVER_CONVERGENCE_MSG,\n"
     ]
    },
    {
     "data": {
      "text/plain": [
       "array([[8.57247849e-24, 1.40512048e-11, 4.67150148e-08, ...,\n",
       "        4.87096124e-04, 1.10735146e-03, 1.42108327e-03],\n",
       "       [2.58386478e-01, 2.24944597e-01, 1.22435642e-01, ...,\n",
       "        5.61698442e-04, 5.61596504e-04, 5.67174426e-04],\n",
       "       [1.36331024e-02, 9.88577189e-02, 1.03463265e-01, ...,\n",
       "        1.42273412e-03, 1.51286838e-03, 1.55559495e-03],\n",
       "       ...,\n",
       "       [4.48223668e-08, 3.80724667e-04, 3.52260760e-03, ...,\n",
       "        1.88079968e-03, 2.45588117e-03, 2.68110103e-03],\n",
       "       [2.97200144e-05, 7.37590093e-03, 2.29524737e-02, ...,\n",
       "        1.96669684e-03, 2.31744013e-03, 2.45532580e-03],\n",
       "       [6.15382306e-07, 1.27209975e-03, 7.61165135e-03, ...,\n",
       "        1.95492014e-03, 2.44994507e-03, 2.64277437e-03]])"
      ]
     },
     "execution_count": 4,
     "metadata": {},
     "output_type": "execute_result"
    }
   ],
   "source": [
    "#import logistic regression\n",
    "from sklearn.linear_model import LogisticRegression\n",
    "from sklearn.model_selection import train_test_split\n",
    "\n",
    "xtrain, xtest, ytrain, ytest = train_test_split(degree_df, degree_df['degree'], test_size=0.2, random_state=42)\n",
    "\n",
    "lg = LogisticRegression()\n",
    "lg.fit(xtrain, ytrain)\n",
    "pred_proba = lg.predict_proba(xtest)\n",
    "pred_proba"
   ]
  }
 ],
 "metadata": {
  "interpreter": {
   "hash": "ada29e137a4d53a98bc0ec6341ea110a6355bc666d103d6f634d761ece61348e"
  },
  "kernelspec": {
   "display_name": "Python 3.7.9 64-bit",
   "language": "python",
   "name": "python3"
  },
  "language_info": {
   "codemirror_mode": {
    "name": "ipython",
    "version": 3
   },
   "file_extension": ".py",
   "mimetype": "text/x-python",
   "name": "python",
   "nbconvert_exporter": "python",
   "pygments_lexer": "ipython3",
   "version": "3.7.9"
  },
  "orig_nbformat": 4
 },
 "nbformat": 4,
 "nbformat_minor": 2
}
